{
 "cells": [
  {
   "cell_type": "markdown",
   "id": "a78bd937",
   "metadata": {},
   "source": [
    "The following has been done by Krishna Chaitanya Velaga and Nivas Ramisetty as part of coursework for Univ.ai AI-1, taught by Dr. Pavlos Protoppas and Dr. Ignacio Becker"
   ]
  },
  {
   "cell_type": "markdown",
   "id": "f5ea274d",
   "metadata": {},
   "source": [
    "<div class=\"alert alert-block alert-info\">\n",
    "    \n",
    "<b>Problem Description: Predicting the Selling Price of Cars on CarDekho.com</b><br/>\n",
    "\n",
    "According to its website, cardekho.com is India's leading car search venture. Its website and app carry rich automotive content such as expert reviews, detailed specs and prices, comparisons as well as videos and pictures of all car brands and models available in India.  Each car has a \"current selling price\", which is the price for buying the car on this site, and a MRP, which is the retail price of the car. These two prices differ depending on factors such as brand, make year, mileage, condition, etc.  \n",
    "<br/><br/>\n",
    "<b>Dataset</b>\n",
    "<br/>\n",
    "The dataset contains 601 cars and is in file <i>car_dekho_full.csv</i>. It contains the following columns:<br/>\n",
    "\n",
    "→ <b>Year</b> - make year (year the car was made)<br/>\n",
    "→ <b>Current_Selling_Price</b> - current price of a car on CarDekho.com (in lakhs)<br/>\n",
    "→ <b>MRP</b> - maximum retail price of a car (in lakhs)<br/>\n",
    "→ <b>Kms_Driven</b> - number of kilometers<br/>\n",
    "<br/><br/>\n",
    "<b>Task:</b> Predict the `Current_Selling_Price` from the other features.\n",
    "</div>"
   ]
  },
  {
   "cell_type": "code",
   "execution_count": 2,
   "id": "02a1c42c",
   "metadata": {},
   "outputs": [],
   "source": [
    "# import necessary libraries\n",
    "import requests\n",
    "from IPython.core.display import HTML\n",
    "\n",
    "import numpy as np\n",
    "import pandas as pd\n",
    "\n",
    "import matplotlib.pyplot as plt\n",
    "import seaborn as sns\n",
    "%matplotlib inline\n",
    "\n",
    "from sklearn.model_selection import train_test_split\n",
    "from sklearn.preprocessing import PolynomialFeatures\n",
    "from sklearn.linear_model import LinearRegression\n",
    "from sklearn.neighbors import KNeighborsRegressor\n",
    "from sklearn.metrics import r2_score, mean_squared_error\n",
    "\n",
    "from scipy.stats import pearsonr\n",
    "from scipy.stats import normaltest\n",
    "\n",
    "pd.options.display.max_columns = None\n",
    "pd.options.display.max_rows = None"
   ]
  },
  {
   "cell_type": "markdown",
   "id": "eae2b89b",
   "metadata": {},
   "source": [
    "### Exploratory Data Analysis"
   ]
  },
  {
   "cell_type": "code",
   "execution_count": 3,
   "id": "9245b6c8",
   "metadata": {},
   "outputs": [
    {
     "data": {
      "text/html": [
       "<div>\n",
       "<style scoped>\n",
       "    .dataframe tbody tr th:only-of-type {\n",
       "        vertical-align: middle;\n",
       "    }\n",
       "\n",
       "    .dataframe tbody tr th {\n",
       "        vertical-align: top;\n",
       "    }\n",
       "\n",
       "    .dataframe thead th {\n",
       "        text-align: right;\n",
       "    }\n",
       "</style>\n",
       "<table border=\"1\" class=\"dataframe\">\n",
       "  <thead>\n",
       "    <tr style=\"text-align: right;\">\n",
       "      <th></th>\n",
       "      <th>Year</th>\n",
       "      <th>Current_Selling_Price</th>\n",
       "      <th>MRP</th>\n",
       "      <th>Kms_Driven</th>\n",
       "    </tr>\n",
       "  </thead>\n",
       "  <tbody>\n",
       "    <tr>\n",
       "      <th>0</th>\n",
       "      <td>2016</td>\n",
       "      <td>5.25</td>\n",
       "      <td>5.70</td>\n",
       "      <td>3493</td>\n",
       "    </tr>\n",
       "    <tr>\n",
       "      <th>1</th>\n",
       "      <td>2005</td>\n",
       "      <td>3.51</td>\n",
       "      <td>13.70</td>\n",
       "      <td>75000</td>\n",
       "    </tr>\n",
       "    <tr>\n",
       "      <th>2</th>\n",
       "      <td>2010</td>\n",
       "      <td>0.31</td>\n",
       "      <td>1.05</td>\n",
       "      <td>213000</td>\n",
       "    </tr>\n",
       "    <tr>\n",
       "      <th>3</th>\n",
       "      <td>2006</td>\n",
       "      <td>2.10</td>\n",
       "      <td>7.60</td>\n",
       "      <td>50456</td>\n",
       "    </tr>\n",
       "    <tr>\n",
       "      <th>4</th>\n",
       "      <td>2005</td>\n",
       "      <td>0.20</td>\n",
       "      <td>0.57</td>\n",
       "      <td>55000</td>\n",
       "    </tr>\n",
       "  </tbody>\n",
       "</table>\n",
       "</div>"
      ],
      "text/plain": [
       "   Year  Current_Selling_Price    MRP  Kms_Driven\n",
       "0  2016                   5.25   5.70        3493\n",
       "1  2005                   3.51  13.70       75000\n",
       "2  2010                   0.31   1.05      213000\n",
       "3  2006                   2.10   7.60       50456\n",
       "4  2005                   0.20   0.57       55000"
      ]
     },
     "execution_count": 3,
     "metadata": {},
     "output_type": "execute_result"
    }
   ],
   "source": [
    "# loading the dataset\n",
    "df = pd.read_csv('data/car_dekho_full.csv')\n",
    "df.head()"
   ]
  },
  {
   "cell_type": "code",
   "execution_count": 4,
   "id": "8f533014",
   "metadata": {},
   "outputs": [
    {
     "data": {
      "text/plain": [
       "Year                       int64\n",
       "Current_Selling_Price    float64\n",
       "MRP                      float64\n",
       "Kms_Driven                 int64\n",
       "dtype: object"
      ]
     },
     "execution_count": 4,
     "metadata": {},
     "output_type": "execute_result"
    }
   ],
   "source": [
    "# checking data types of columns\n",
    "df.dtypes"
   ]
  },
  {
   "cell_type": "code",
   "execution_count": 5,
   "id": "f0153850",
   "metadata": {},
   "outputs": [
    {
     "name": "stdout",
     "output_type": "stream",
     "text": [
      "The mean Current Selling Price is 4.39 lakhs\n",
      "The mean MRP is 6.91 lakhs\n",
      "The standard deviation of Current Selling Price is 4.52\n",
      "The standard deviation of MRP is 6.48\n"
     ]
    }
   ],
   "source": [
    "# mean and std\n",
    "mean_csp = df['Current_Selling_Price'].mean()\n",
    "mean_mrp = df['MRP'].mean()\n",
    "std_csp = df['Current_Selling_Price'].std()\n",
    "std_mrp = df['MRP'].std()\n",
    "\n",
    "print (\"The mean Current Selling Price is\", round(mean_csp,2),\"lakhs\")\n",
    "print (\"The mean MRP is\", round(mean_mrp,2),'lakhs')\n",
    "print (\"The standard deviation of Current Selling Price is\", round(std_csp,2))\n",
    "print (\"The standard deviation of MRP is\", round(std_mrp,2))"
   ]
  },
  {
   "cell_type": "code",
   "execution_count": 7,
   "id": "f9a0fb7b",
   "metadata": {},
   "outputs": [
    {
     "data": {
      "image/png": "[encoded data removed]",
      "text/plain": [
       "<Figure size 720x720 with 3 Axes>"
      ]
     },
     "metadata": {
      "needs_background": "light"
     },
     "output_type": "display_data"
    }
   ],
   "source": [
    "fig, axs = plt.subplots(3)\n",
    "\n",
    "# scatter plot between year and current selling price\n",
    "axs[0].scatter(df['Year'], df['Current_Selling_Price'])\n",
    "axs[0].set_title('Relationship between Year and Current Selling Price')\n",
    "axs[0].set_xlabel('Year')\n",
    "axs[0].set_ylabel('Current Selling Price')\n",
    "\n",
    "# scatter plot between mrp and current selling price\n",
    "axs[1].scatter(df['MRP'], df['Current_Selling_Price'])\n",
    "axs[1].set_title('Relationship between MRP and Current Selling Price')\n",
    "axs[1].set_xlabel('MRP')\n",
    "axs[1].set_ylabel('Current Selling Price')\n",
    "\n",
    "# scatter plot between kms driven and current selling price\n",
    "axs[2].scatter(df['Kms_Driven'], df['Current_Selling_Price'])\n",
    "axs[2].set_title('Relationship between Kilometers driven and Current Selling Price')\n",
    "axs[2].set_xlabel('Kilometers driven')\n",
    "axs[2].set_ylabel('Current Selling Price')\n",
    "\n",
    "# plot settings\n",
    "plt.rcParams[\"figure.figsize\"] = (10,10)\n",
    "plt.subplots_adjust(wspace=0.5,hspace=0.5)\n",
    "plt.show()"
   ]
  },
  {
   "cell_type": "code",
   "execution_count": 8,
   "id": "b0292c7b",
   "metadata": {},
   "outputs": [
    {
     "name": "stdout",
     "output_type": "stream",
     "text": [
      "Person's correlation coeff between year and CSP is 0.25\n",
      "Person's correlation coeff between MRP and CSP is 0.89\n",
      "Person's correlation coeff between kilometers driven and CSP is 0.0\n"
     ]
    }
   ],
   "source": [
    "# correlation\n",
    "print('Person\\'s correlation coeff between year and CSP is', round(pearsonr(df['Year'], df['Current_Selling_Price'])[0], 2))\n",
    "print('Person\\'s correlation coeff between MRP and CSP is', round(pearsonr(df['MRP'], df['Current_Selling_Price'])[0], 2))\n",
    "print('Person\\'s correlation coeff between kilometers driven and CSP is', round(pearsonr(df['Kms_Driven'], df['Current_Selling_Price'])[0], 2))"
   ]
  },
  {
   "cell_type": "markdown",
   "id": "1c7071ad",
   "metadata": {},
   "source": [
    "<b>Observation:</b> Based on the above graphs and Pearson's correlation coefficient, MRP will be the best predictor for Current Selling Price.\n",
    "<hr><br/>\n",
    "\n",
    "### Modelling: K Nearest Neighbors Regressor"
   ]
  },
  {
   "cell_type": "code",
   "execution_count": null,
   "id": "36d05201",
   "metadata": {},
   "outputs": [],
   "source": []
  }
 ],
 "metadata": {
  "kernelspec": {
   "display_name": "Python 3 (ipykernel)",
   "language": "python",
   "name": "python3"
  },
  "language_info": {
   "codemirror_mode": {
    "name": "ipython",
    "version": 3
   },
   "file_extension": ".py",
   "mimetype": "text/x-python",
   "name": "python",
   "nbconvert_exporter": "python",
   "pygments_lexer": "ipython3",
   "version": "3.8.8"
  }
 },
 "nbformat": 4,
 "nbformat_minor": 5
}
