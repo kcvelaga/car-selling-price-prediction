{
 "cells": [
  {
   "cell_type": "markdown",
   "id": "a78bd937",
   "metadata": {},
   "source": [
    "The following has been done by Krishna Chaitanya Velaga and Nivas Ramisetty as part of coursework for Univ.ai AI-1, taught by Dr. Pavlos Protoppas and Dr. Ignacio Becker"
   ]
  },
  {
   "cell_type": "markdown",
   "id": "f5ea274d",
   "metadata": {},
   "source": [
    "<div class=\"alert alert-block alert-info\">\n",
    "    \n",
    "<b>Problem Description: Predicting the Selling Price of Cars on CarDekho.com</b><br/>\n",
    "\n",
    "According to its website, cardekho.com is India's leading car search venture. Its website and app carry rich automotive content such as expert reviews, detailed specs and prices, comparisons as well as videos and pictures of all car brands and models available in India.  Each car has a \"current selling price\", which is the price for buying the car on this site, and a MRP, which is the retail price of the car. These two prices differ depending on factors such as brand, make year, mileage, condition, etc.  \n",
    "<br/>\n",
    "<b>Dataset</b>\n",
    "<br/>\n",
    "The dataset contains 601 cars and is in file <i>car_dekho_full.csv</i>. It contains the following columns:\n",
    "\n",
    "→ <b>Year</b> - make year (year the car was made)<br/>\n",
    "→ <b>Current_Selling_Price</b> - current price of a car on CarDekho.com (in lakhs)<br/>\n",
    "→ <b>MRP</b> - maximum retail price of a car (in lakhs)<br/>\n",
    "→ <b>Kms_Driven</b> - number of kilometers<br/>\n",
    "    \n",
    "<br/>\n",
    "<b>Task:</b> Predict the `Current_Selling_Price` from the other features.\n",
    "</div>"
   ]
  },
  {
   "cell_type": "markdown",
   "id": "a9c132ad",
   "metadata": {},
   "source": [
    "### Exploratory Data Analysis"
   ]
  },
  {
   "cell_type": "code",
   "execution_count": null,
   "id": "4b420a9c",
   "metadata": {},
   "outputs": [],
   "source": []
  }
 ],
 "metadata": {
  "kernelspec": {
   "display_name": "Python 3 (ipykernel)",
   "language": "python",
   "name": "python3"
  },
  "language_info": {
   "codemirror_mode": {
    "name": "ipython",
    "version": 3
   },
   "file_extension": ".py",
   "mimetype": "text/x-python",
   "name": "python",
   "nbconvert_exporter": "python",
   "pygments_lexer": "ipython3",
   "version": "3.8.8"
  }
 },
 "nbformat": 4,
 "nbformat_minor": 5
}
