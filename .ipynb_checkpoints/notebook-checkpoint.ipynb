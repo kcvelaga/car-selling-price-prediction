{
 "cells": [
  {
   "cell_type": "markdown",
   "id": "a78bd937",
   "metadata": {},
   "source": [
    "<small>*The following has been done by [Krishna Chaitanya Velaga](https://www.linkedin.com/in/kcvelaga/) and [Nivas Ramisetty](https://www.linkedin.com/in/nivas10798/),<br>as part of coursework for [Univ.ai AI-1](https://welcome.univ.ai/catalog/cohort2/ai1/), taught by [Dr. Pavlos Protoppas](https://iacs.seas.harvard.edu/people/pavlos-protopapas) and [Dr. Ignacio Becker](http://orcid.org/0000-0002-8358-0295).*</small>"
   ]
  },
  {
   "cell_type": "markdown",
   "id": "f5ea274d",
   "metadata": {},
   "source": [
    "<div class=\"alert alert-block alert-info\">\n",
    "    \n",
    "## Problem Description: Predicting the Selling Price of Cars on CarDekho.com\n",
    "\n",
    "According to its website, **CarDekho.com** is India's leading car search venture. Its website and app carry rich automotive content such as expert reviews, detailed specs and prices, comparisons as well as videos and pictures of all car brands and models available in India.  Each car has a **Current selling price**, which is the price for buying the car on this site, and a **MRP**, which is the retail price of the car. These two prices differ depending on factors such as brand, make year, mileage, condition, etc.  \n",
    "    \n",
    "### Dataset\n",
    "\n",
    "The dataset contains 601 cars and is in file `car_dekho_full.csv`. It contains the following columns:\n",
    "\n",
    "- **Year** - make year (year the car was made), \n",
    "- **Current_Selling_Price** - current price of a car on CarDekho.com (in lakhs),\n",
    "- **MRP** - maximum retail price of a car (in lakhs),\n",
    "- **Kms_Driven** - number of kilometers\n",
    "\n",
    "Note: 1 *lakh*  is 100,000 Rupees in the Indian numbering system. Also, kilometers are used as a measure of distance instead of miles.\n",
    "\n",
    "### Task\n",
    "Predict the `Current_Selling_Price` from the other features.\n",
    "</div>"
   ]
  },
  {
   "cell_type": "code",
   "execution_count": null,
   "id": "52278494",
   "metadata": {},
   "outputs": [],
   "source": []
  }
 ],
 "metadata": {
  "kernelspec": {
   "display_name": "Python 3 (ipykernel)",
   "language": "python",
   "name": "python3"
  },
  "language_info": {
   "codemirror_mode": {
    "name": "ipython",
    "version": 3
   },
   "file_extension": ".py",
   "mimetype": "text/x-python",
   "name": "python",
   "nbconvert_exporter": "python",
   "pygments_lexer": "ipython3",
   "version": "3.8.8"
  }
 },
 "nbformat": 4,
 "nbformat_minor": 5
}
